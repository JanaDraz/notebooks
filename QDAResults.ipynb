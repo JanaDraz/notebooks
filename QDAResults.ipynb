{
 "cells": [
  {
   "cell_type": "code",
   "execution_count": 10,
   "metadata": {},
   "outputs": [],
   "source": [
    "#import\n",
    "import numpy as np\n",
    "import seaborn as sns\n",
    "import pandas as pd\n",
    "\n",
    "def r_hash( h ):\n",
    "    r = [0,0] #default value\n",
    "    hparts = h.split('|')\n",
    "    r[0] = int( hparts[0] )\n",
    "    r[1] = int( hparts[1] )\n",
    "    return r\n"
   ]
  },
  {
   "cell_type": "code",
   "execution_count": 11,
   "metadata": {},
   "outputs": [],
   "source": [
    "#tresholds\n",
    "x0min = -8\n",
    "x0max = 8\n",
    "x1min = -8\n",
    "x1max = 8\n",
    "\n",
    "pieces_count = 100\n",
    "\n",
    "stepx0 = ( x0max - x0min ) / pieces_count\n",
    "stepx1 = ( x1max - x1min ) / pieces_count\n",
    "\n",
    "tresholdsX0 = np.arange ( x0min, x0max+(0.3*stepx0), stepx0 )\n",
    "tresholdsX1 = np.arange ( x1min, x1max+(0.3*stepx1), stepx1 )\n",
    "\n",
    "tresholds = [ tresholdsX0, tresholdsX1 ]\n",
    "\n",
    "\n",
    "#vanderpol - k=3, M=2,\n",
    "list_r = []\n",
    "vdp_visited = {'60|50': {'00': ['10']}, '60|51': {'11': ['10']}, '60|52': {'11': ['10']}, '60|53': {'11': ['10']}, '60|54': {'11': ['10']}, '60|55': {'11': ['10']}, '60|56': {'11': ['01', '10']}, '60|57': {'11': ['01', '10']}, '60|58': {'11': ['01', '10']}, '60|59': {'11': ['01', '10']}, '60|60': {'11': ['01', '10']}, '60|61': {'11': ['01', '10']}, '60|62': {'11': ['01', '10']}, '60|63': {'11': ['01', '10']}, '60|64': {'11': ['01', '10']}, '60|65': {'11': ['01', '10']}, '60|66': {'11': ['01', '10']}, '60|67': {'11': ['01', '10']}, '60|68': {'11': ['01', '10']}, '60|69': {'11': ['01', '10']}, '60|70': {'11': ['01', '10']}, '60|71': {'11': ['01', '10']}, '60|72': {'11': ['01', '10']}, '60|73': {'11': ['01', '10']}, '60|74': {'11': ['01', '10']}, '60|75': {'11': ['01', '10']}, '60|76': {'11': ['01', '10']}, '60|77': {'11': ['01', '10']}, '60|78': {'11': ['01', '10']}, '60|79': {'11': ['01', '10']}, '60|80': {'11': ['01', '10']}, '60|81': {'11': ['01', '10']}, '60|82': {'11': ['01', '10']}, '60|83': {'11': ['01', '10']}, '60|84': {'11': ['01', '10']}, '60|85': {'11': ['01', '10']}, '60|86': {'11': ['01', '10']}, '60|87': {'11': ['01', '10']}, '60|88': {'11': ['01', '10']}, '60|89': {'11': ['01', '10']}, '60|90': {'11': ['01', '10']}, '60|91': {'11': ['01', '10']}, '60|92': {'11': ['01', '10']}, '60|93': {'11': ['01', '10']}, '60|94': {'11': ['01', '10']}, '60|95': {'11': ['01', '10']}, '60|96': {'11': ['01', '10']}, '60|97': {'11': ['01', '10']}, '60|98': {'11': ['01', '10']}, '60|99': {'11': ['01', '10']}, '61|99': {'00': ['10'], '11': ['10', '01']}, '61|98': {'00': ['10'], '11': ['10', '01']}, '61|97': {'00': ['10'], '11': ['10', '01']}, '62|99': {'00': ['10'], '11': ['10']}, '61|96': {'00': ['10'], '11': ['10', '01']}, '62|98': {'00': ['10'], '11': ['10']}, '61|95': {'00': ['10'], '11': ['10', '01']}, '62|97': {'00': ['10'], '11': ['10']}, '61|94': {'00': ['10'], '11': ['10', '01']}, '62|96': {'00': ['10'], '11': ['10']}, '61|93': {'00': ['10'], '11': ['10', '01']}, '62|95': {'00': ['10'], '11': ['10']}, '61|92': {'00': ['10'], '11': ['10', '01']}, '62|94': {'00': ['10'], '11': ['10']}, '61|91': {'00': ['10'], '11': ['10', '01']}, '62|93': {'00': ['10'], '11': ['10']}, '61|90': {'00': ['10'], '11': ['10', '01']}, '62|92': {'00': ['10'], '11': ['10']}, '61|89': {'00': ['10'], '11': ['10', '01']}, '62|91': {'00': ['10'], '11': ['10']}, '61|88': {'00': ['10'], '11': ['10', '01']}, '62|90': {'00': ['10'], '11': ['10']}, '61|87': {'00': ['10'], '11': ['10', '01']}, '62|89': {'00': ['10'], '11': ['10']}, '61|86': {'00': ['10'], '11': ['10', '01']}, '62|88': {'00': ['10'], '11': ['10']}, '61|85': {'00': ['10'], '11': ['10', '01']}, '62|87': {'00': ['10'], '11': ['10']}, '61|84': {'00': ['10'], '11': ['10', '01']}, '62|86': {'00': ['10'], '11': ['10']}, '61|83': {'00': ['10'], '11': ['10', '01']}, '62|85': {'00': ['10'], '11': ['10']}, '61|82': {'00': ['10'], '11': ['10', '01']}, '62|84': {'00': ['10'], '11': ['10']}, '61|81': {'00': ['10'], '11': ['10', '01']}, '62|83': {'00': ['10'], '11': ['10']}, '61|80': {'00': ['10'], '11': ['10', '01']}, '62|82': {'00': ['10'], '11': ['10']}, '61|79': {'00': ['10'], '11': ['10', '01']}, '62|81': {'00': ['10'], '11': ['10']}, '61|78': {'00': ['10'], '11': ['10', '01']}, '62|80': {'00': ['10'], '11': ['10']}, '61|77': {'00': ['10'], '11': ['10', '01']}, '62|79': {'00': ['10'], '11': ['10']}, '61|76': {'00': ['10'], '11': ['10', '01']}, '62|78': {'00': ['10'], '11': ['10']}, '61|75': {'00': ['10'], '11': ['10', '01']}, '62|77': {'00': ['10'], '11': ['10']}, '61|74': {'00': ['10'], '11': ['10', '01']}, '62|76': {'00': ['10'], '11': ['10']}, '61|73': {'00': ['10'], '11': ['10', '01']}, '62|75': {'00': ['10'], '11': ['10']}, '61|72': {'00': ['10'], '11': ['10', '01']}, '62|74': {'00': ['10'], '11': ['10']}, '61|71': {'00': ['10'], '11': ['10', '01']}, '62|73': {'00': ['10'], '11': ['10']}, '61|70': {'00': ['10'], '11': ['10', '01']}, '62|72': {'00': ['10'], '11': ['10']}, '61|69': {'00': ['10'], '11': ['10', '01']}, '62|71': {'00': ['10'], '11': ['10']}, '61|68': {'00': ['10'], '11': ['10', '01']}, '62|70': {'00': ['10'], '11': ['10']}, '61|67': {'00': ['10'], '11': ['10', '01']}, '62|69': {'00': ['10'], '11': ['10']}, '61|66': {'00': ['10'], '11': ['10']}, '62|68': {'00': ['10'], '11': ['10']}, '61|65': {'00': ['10'], '11': ['10']}, '62|67': {'00': ['10']}, '61|64': {'00': ['10'], '11': ['10']}, '61|63': {'00': ['10'], '11': ['10']}, '61|62': {'00': ['10'], '11': ['10']}, '61|61': {'00': ['10'], '11': ['10']}, '61|60': {'00': ['10'], '11': ['10']}, '61|59': {'00': ['10'], '11': ['10']}, '61|58': {'00': ['10'], '11': ['10']}, '61|57': {'00': ['10'], '11': ['10']}, '61|56': {'00': ['10']}}\n",
    "for key in vdp_visited:\n",
    "    r = r_hash( key )\n",
    "    list_r.append( r )\n",
    "    \n",
    "xlist = []\n",
    "ylist = []\n",
    "for r in list_r:\n",
    "    xlist.append( 0.5*( tresholds[0][r[0]] + tresholds[0][r[0]+1]) )\n",
    "    ylist.append( 0.5*( tresholds[1][r[1]] + tresholds[1][r[1]+1]) )\n",
    "\n",
    "ctverecky = pd.DataFrame({\n",
    "    \"x\" : xlist,\n",
    "    \"y\" : ylist\n",
    "})"
   ]
  },
  {
   "cell_type": "code",
   "execution_count": 14,
   "metadata": {},
   "outputs": [
    {
     "data": {
      "image/png": "[encoded data removed]",
      "text/plain": [
       "<Figure size 432x288 with 1 Axes>"
      ]
     },
     "metadata": {
      "needs_background": "light"
     },
     "output_type": "display_data"
    },
    {
     "data": {
      "image/png": "[encoded data removed]",
      "text/plain": [
       "<Figure size 216x216 with 1 Axes>"
      ]
     },
     "metadata": {
      "needs_background": "light"
     },
     "output_type": "display_data"
    }
   ],
   "source": [
    "ax = sns.scatterplot(x=\"x\", y=\"y\", data=ctverecky, markers=\"s\", s=10)\n",
    "g = sns.FacetGrid(ctverecky)\n",
    "\n",
    "#fg = sns.lmplot('A', 'B', hue=\"group\", data=res_me,fit_reg=False,\n",
    "#              palette=\"Set1\",size=10, aspect=1,\n",
    "#              scatter_kws={\"s\": 100,\"linewidths\":2,\"edgecolor\":\"black\"})\n",
    "\n",
    "#fg.axes[0, 0].add_patch(patches.Rectangle((0.912, 0.72), 1.02, \n",
    "#                        0.802,fill=False,edgecolor='green',lw=3))"
   ]
  },
  {
   "cell_type": "code",
   "execution_count": null,
   "metadata": {},
   "outputs": [],
   "source": []
  }
 ],
 "metadata": {
  "kernelspec": {
   "display_name": "Python 3",
   "language": "python",
   "name": "python3"
  },
  "language_info": {
   "codemirror_mode": {
    "name": "ipython",
    "version": 3
   },
   "file_extension": ".py",
   "mimetype": "text/x-python",
   "name": "python",
   "nbconvert_exporter": "python",
   "pygments_lexer": "ipython3",
   "version": "3.9.5"
  }
 },
 "nbformat": 4,
 "nbformat_minor": 4
}
