{
 "cells": [
  {
   "cell_type": "code",
   "execution_count": 1,
   "metadata": {},
   "outputs": [],
   "source": [
    "#import\n",
    "import numpy as np\n",
    "import seaborn as sns\n",
    "# Matplotlib for additional customization\n",
    "from matplotlib import pyplot as plt\n",
    "%matplotlib inline\n",
    "\n",
    "import pandas as pd\n",
    "\n",
    "def r_hash( h ):\n",
    "    r = [0,0] #default value\n",
    "    hparts = h.split('|')\n",
    "    r[0] = int( hparts[0] )\n",
    "    r[1] = int( hparts[1] )\n",
    "    return r\n"
   ]
  },
  {
   "cell_type": "code",
   "execution_count": 2,
   "metadata": {},
   "outputs": [
    {
     "name": "stdout",
     "output_type": "stream",
     "text": [
      "        x     y\n",
      "0   -1.04 -2.00\n",
      "1   -1.04 -1.84\n",
      "2   -0.88 -1.84\n",
      "3   -0.88 -1.68\n",
      "4   -0.88 -1.52\n",
      "..    ...   ...\n",
      "170  2.00  3.92\n",
      "171  1.68  3.12\n",
      "172  1.84  3.44\n",
      "173  2.00  3.76\n",
      "174  1.68  2.96\n",
      "\n",
      "[175 rows x 2 columns]\n"
     ]
    }
   ],
   "source": [
    "#tresholds\n",
    "x0min = -8\n",
    "x0max = 8\n",
    "x1min = -8\n",
    "x1max = 8\n",
    "\n",
    "pieces_count = 100\n",
    "\n",
    "stepx0 = ( x0max - x0min ) / pieces_count\n",
    "stepx1 = ( x1max - x1min ) / pieces_count\n",
    "\n",
    "tresholdsX0 = np.arange ( x0min, x0max+(0.3*stepx0), stepx0 )\n",
    "tresholdsX1 = np.arange ( x1min, x1max+(0.3*stepx1), stepx1 )\n",
    "\n",
    "tresholds = [ tresholdsX0, tresholdsX1 ]\n",
    "\n",
    "\n",
    "#vanderpol - k=3, M=2,\n",
    "list_r = []\n",
    "#vdp_visited = {'60|50': {'00': ['10']}, '60|51': {'11': ['10']}, '60|52': {'11': ['10']}, '60|53': {'11': ['10']}, '60|54': {'11': ['10']}, '60|55': {'11': ['10']}, '60|56': {'11': ['01', '10']}, '60|57': {'11': ['01', '10']}, '60|58': {'11': ['01', '10']}, '60|59': {'11': ['01', '10']}, '60|60': {'11': ['01', '10']}, '60|61': {'11': ['01', '10']}, '60|62': {'11': ['01', '10']}, '60|63': {'11': ['01', '10']}, '60|64': {'11': ['01', '10']}, '60|65': {'11': ['01', '10']}, '60|66': {'11': ['01', '10']}, '60|67': {'11': ['01', '10']}, '60|68': {'11': ['01', '10']}, '60|69': {'11': ['01', '10']}, '60|70': {'11': ['01', '10']}, '60|71': {'11': ['01', '10']}, '60|72': {'11': ['01', '10']}, '60|73': {'11': ['01', '10']}, '60|74': {'11': ['01', '10']}, '60|75': {'11': ['01', '10']}, '60|76': {'11': ['01', '10']}, '60|77': {'11': ['01', '10']}, '60|78': {'11': ['01', '10']}, '60|79': {'11': ['01', '10']}, '60|80': {'11': ['01', '10']}, '60|81': {'11': ['01', '10']}, '60|82': {'11': ['01', '10']}, '60|83': {'11': ['01', '10']}, '60|84': {'11': ['01', '10']}, '60|85': {'11': ['01', '10']}, '60|86': {'11': ['01', '10']}, '60|87': {'11': ['01', '10']}, '60|88': {'11': ['01', '10']}, '60|89': {'11': ['01', '10']}, '60|90': {'11': ['01', '10']}, '60|91': {'11': ['01', '10']}, '60|92': {'11': ['01', '10']}, '60|93': {'11': ['01', '10']}, '60|94': {'11': ['01', '10']}, '60|95': {'11': ['01', '10']}, '60|96': {'11': ['01', '10']}, '60|97': {'11': ['01', '10']}, '60|98': {'11': ['01', '10']}, '60|99': {'11': ['01', '10']}, '61|99': {'00': ['10'], '11': ['10', '01']}, '61|98': {'00': ['10'], '11': ['10', '01']}, '61|97': {'00': ['10'], '11': ['10', '01']}, '62|99': {'00': ['10'], '11': ['10']}, '61|96': {'00': ['10'], '11': ['10', '01']}, '62|98': {'00': ['10'], '11': ['10']}, '61|95': {'00': ['10'], '11': ['10', '01']}, '62|97': {'00': ['10'], '11': ['10']}, '61|94': {'00': ['10'], '11': ['10', '01']}, '62|96': {'00': ['10'], '11': ['10']}, '61|93': {'00': ['10'], '11': ['10', '01']}, '62|95': {'00': ['10'], '11': ['10']}, '61|92': {'00': ['10'], '11': ['10', '01']}, '62|94': {'00': ['10'], '11': ['10']}, '61|91': {'00': ['10'], '11': ['10', '01']}, '62|93': {'00': ['10'], '11': ['10']}, '61|90': {'00': ['10'], '11': ['10', '01']}, '62|92': {'00': ['10'], '11': ['10']}, '61|89': {'00': ['10'], '11': ['10', '01']}, '62|91': {'00': ['10'], '11': ['10']}, '61|88': {'00': ['10'], '11': ['10', '01']}, '62|90': {'00': ['10'], '11': ['10']}, '61|87': {'00': ['10'], '11': ['10', '01']}, '62|89': {'00': ['10'], '11': ['10']}, '61|86': {'00': ['10'], '11': ['10', '01']}, '62|88': {'00': ['10'], '11': ['10']}, '61|85': {'00': ['10'], '11': ['10', '01']}, '62|87': {'00': ['10'], '11': ['10']}, '61|84': {'00': ['10'], '11': ['10', '01']}, '62|86': {'00': ['10'], '11': ['10']}, '61|83': {'00': ['10'], '11': ['10', '01']}, '62|85': {'00': ['10'], '11': ['10']}, '61|82': {'00': ['10'], '11': ['10', '01']}, '62|84': {'00': ['10'], '11': ['10']}, '61|81': {'00': ['10'], '11': ['10', '01']}, '62|83': {'00': ['10'], '11': ['10']}, '61|80': {'00': ['10'], '11': ['10', '01']}, '62|82': {'00': ['10'], '11': ['10']}, '61|79': {'00': ['10'], '11': ['10', '01']}, '62|81': {'00': ['10'], '11': ['10']}, '61|78': {'00': ['10'], '11': ['10', '01']}, '62|80': {'00': ['10'], '11': ['10']}, '61|77': {'00': ['10'], '11': ['10', '01']}, '62|79': {'00': ['10'], '11': ['10']}, '61|76': {'00': ['10'], '11': ['10', '01']}, '62|78': {'00': ['10'], '11': ['10']}, '61|75': {'00': ['10'], '11': ['10', '01']}, '62|77': {'00': ['10'], '11': ['10']}, '61|74': {'00': ['10'], '11': ['10', '01']}, '62|76': {'00': ['10'], '11': ['10']}, '61|73': {'00': ['10'], '11': ['10', '01']}, '62|75': {'00': ['10'], '11': ['10']}, '61|72': {'00': ['10'], '11': ['10', '01']}, '62|74': {'00': ['10'], '11': ['10']}, '61|71': {'00': ['10'], '11': ['10', '01']}, '62|73': {'00': ['10'], '11': ['10']}, '61|70': {'00': ['10'], '11': ['10', '01']}, '62|72': {'00': ['10'], '11': ['10']}, '61|69': {'00': ['10'], '11': ['10', '01']}, '62|71': {'00': ['10'], '11': ['10']}, '61|68': {'00': ['10'], '11': ['10', '01']}, '62|70': {'00': ['10'], '11': ['10']}, '61|67': {'00': ['10'], '11': ['10', '01']}, '62|69': {'00': ['10'], '11': ['10']}, '61|66': {'00': ['10'], '11': ['10']}, '62|68': {'00': ['10'], '11': ['10']}, '61|65': {'00': ['10'], '11': ['10']}, '62|67': {'00': ['10']}, '61|64': {'00': ['10'], '11': ['10']}, '61|63': {'00': ['10'], '11': ['10']}, '61|62': {'00': ['10'], '11': ['10']}, '61|61': {'00': ['10'], '11': ['10']}, '61|60': {'00': ['10'], '11': ['10']}, '61|59': {'00': ['10'], '11': ['10']}, '61|58': {'00': ['10'], '11': ['10']}, '61|57': {'00': ['10'], '11': ['10']}, '61|56': {'00': ['10']}}\n",
    "#vdp_visited = {'60|50': {'00': ['10']}, '60|51': {'11': ['10']}, '60|52': {'11': ['10']}, '60|53': {'11': ['10']}, '60|54': {'11': ['01', '10']}, '60|55': {'11': ['01', '10']}, '60|56': {'11': ['01', '10']}, '60|57': {'11': ['01', '10']}, '60|58': {'11': ['01', '10']}, '60|59': {'11': ['01', '10']}, '60|60': {'11': ['01', '10']}, '60|61': {'11': ['01', '10']}, '60|62': {'11': ['01', '10']}, '60|63': {'11': ['01', '10']}, '60|64': {'11': ['01', '10']}, '60|65': {'11': ['01', '10']}, '60|66': {'11': ['01', '10']}, '60|67': {'11': ['01', '10']}, '60|68': {'11': ['01', '10']}, '60|69': {'11': ['01', '10']}, '60|70': {'11': ['01', '10']}, '60|71': {'11': ['01', '10']}, '60|72': {'11': ['01', '10']}, '60|73': {'11': ['01', '10']}, '60|74': {'11': ['01', '10']}, '60|75': {'11': ['01', '10']}, '60|76': {'11': ['01', '10']}, '60|77': {'11': ['01', '10']}, '60|78': {'11': ['01', '10']}, '60|79': {'11': ['01', '10']}, '60|80': {'11': ['01', '10']}, '60|81': {'11': ['01', '10']}, '60|82': {'11': ['01', '10']}, '60|83': {'11': ['01', '10']}, '60|84': {'11': ['01', '10']}, '60|85': {'11': ['01', '10']}, '60|86': {'11': ['01', '10']}, '60|87': {'11': ['01', '10']}, '60|88': {'11': ['01', '10']}, '60|89': {'11': ['01', '10']}, '60|90': {'11': ['01', '10']}, '60|91': {'11': ['01', '10']}, '60|92': {'11': ['01', '10']}, '60|93': {'11': ['01', '10']}, '60|94': {'11': ['01', '10']}, '60|95': {'11': ['01', '10']}, '60|96': {'11': ['01', '10']}, '60|97': {'11': ['01', '10']}, '60|98': {'11': ['01', '10']}, '60|99': {'11': ['01', '10']}, '61|99': {'00': ['10'], '11': ['10', '01']}, '61|98': {'00': ['10'], '11': ['10', '01']}, '61|97': {'00': ['10'], '11': ['10', '01']}, '61|96': {'00': ['10'], '11': ['10', '01']}, '61|95': {'00': ['10'], '11': ['10', '01']}, '62|99': {'00': ['10'], '11': ['10', '01']}, '61|94': {'00': ['10'], '11': ['10', '01']}, '62|98': {'00': ['10'], '11': ['10', '01']}, '61|93': {'00': ['10'], '11': ['10', '01']}, '62|97': {'00': ['10'], '11': ['10', '01']}, '61|92': {'00': ['10'], '11': ['10', '01']}, '62|96': {'00': ['10'], '11': ['10', '01']}, '61|91': {'00': ['10'], '11': ['10', '01']}, '62|95': {'00': ['10'], '11': ['10', '01']}, '63|99': {'00': ['10'], '11': ['10', '01']}, '61|90': {'00': ['10'], '11': ['10', '01']}, '62|94': {'00': ['10'], '11': ['10', '01']}, '63|98': {'00': ['10'], '11': ['10', '01']}, '61|89': {'00': ['10'], '11': ['10', '01']}, '62|93': {'00': ['10'], '11': ['10', '01']}, '63|97': {'00': ['10'], '11': ['10', '01']}, '61|88': {'00': ['10'], '11': ['10', '01']}, '62|92': {'00': ['10'], '11': ['10', '01']}, '63|96': {'00': ['10'], '11': ['10', '01']}, '61|87': {'00': ['10'], '11': ['10', '01']}, '62|91': {'00': ['10'], '11': ['10', '01']}, '63|95': {'00': ['10'], '11': ['10', '01']}, '64|99': {'00': ['10'], '11': ['10', '01']}, '61|86': {'00': ['10'], '11': ['10', '01']}, '62|90': {'00': ['10'], '11': ['10', '01']}, '63|94': {'00': ['10'], '11': ['10', '01']}, '64|98': {'00': ['10'], '11': ['10', '01']}, '61|85': {'00': ['10'], '11': ['10', '01']}, '62|89': {'00': ['10'], '11': ['10', '01']}, '63|93': {'00': ['10'], '11': ['10', '01']}, '64|97': {'00': ['10'], '11': ['10', '01']}, '61|84': {'00': ['10'], '11': ['10', '01']}, '62|88': {'00': ['10'], '11': ['10', '01']}, '63|92': {'00': ['10'], '11': ['10', '01']}, '64|96': {'00': ['10'], '11': ['10', '01']}, '61|83': {'00': ['10'], '11': ['10', '01']}, '62|87': {'00': ['10'], '11': ['10', '01']}, '63|91': {'00': ['10'], '11': ['10', '01']}, '64|95': {'00': ['10'], '11': ['10', '01']}, '65|99': {'00': ['10'], '11': ['10', '01']}, '61|82': {'00': ['10'], '11': ['10', '01']}, '62|86': {'00': ['10'], '11': ['10', '01']}, '63|90': {'00': ['10'], '11': ['10', '01']}, '64|94': {'00': ['10'], '11': ['10', '01']}, '65|98': {'00': ['10'], '11': ['10', '01']}, '61|81': {'00': ['10'], '11': ['10', '01']}, '62|85': {'00': ['10'], '11': ['10', '01']}, '63|89': {'00': ['10'], '11': ['10', '01']}, '64|93': {'00': ['10'], '11': ['10', '01']}, '65|97': {'00': ['10'], '11': ['10', '01']}, '61|80': {'00': ['10'], '11': ['10', '01']}, '62|84': {'00': ['10'], '11': ['10', '01']}, '63|88': {'00': ['10'], '11': ['10', '01']}, '64|92': {'00': ['10'], '11': ['10', '01']}, '65|96': {'00': ['10'], '11': ['10', '01']}, '61|79': {'00': ['10'], '11': ['10', '01']}, '62|83': {'00': ['10'], '11': ['10', '01']}, '63|87': {'00': ['10'], '11': ['10', '01']}, '64|91': {'00': ['10'], '11': ['10', '01']}, '65|95': {'00': ['10'], '11': ['10', '01']}, '66|99': {'00': ['10'], '11': ['10', '01']}, '61|78': {'00': ['10'], '11': ['10', '01']}, '62|82': {'00': ['10'], '11': ['10', '01']}, '63|86': {'00': ['10'], '11': ['10', '01']}, '64|90': {'00': ['10'], '11': ['10', '01']}, '65|94': {'00': ['10'], '11': ['10', '01']}, '66|98': {'00': ['10'], '11': ['10', '01']}, '61|77': {'00': ['10'], '11': ['10', '01']}, '62|81': {'00': ['10'], '11': ['10', '01']}, '63|85': {'00': ['10'], '11': ['10', '01']}, '64|89': {'00': ['10'], '11': ['10', '01']}, '65|93': {'00': ['10'], '11': ['10', '01']}, '66|97': {'00': ['10'], '11': ['10', '01']}, '61|76': {'00': ['10'], '11': ['10', '01']}, '62|80': {'00': ['10'], '11': ['10']}, '63|84': {'00': ['10'], '11': ['10']}, '64|88': {'00': ['10'], '11': ['10']}, '65|92': {'00': ['10'], '11': ['10']}, '66|96': {'00': ['10'], '11': ['10']}, '61|75': {'00': ['10'], '11': ['10']}, '62|79': {'00': ['10'], '11': ['10']}, '63|83': {'00': ['10'], '11': ['10']}, '64|87': {'00': ['10'], '11': ['10']}, '65|91': {'00': ['10'], '11': ['10']}, '66|95': {'00': ['10'], '11': ['10']}, '67|99': {'00': ['10'], '11': ['10']}, '61|74': {'00': ['10'], '11': ['10']}, '62|78': {'00': ['10'], '11': ['10']}, '63|82': {'00': ['10'], '11': ['10']}, '64|86': {'00': ['10'], '11': ['10']}, '65|90': {'00': ['10'], '11': ['10']}, '66|94': {'00': ['10'], '11': ['10']}, '67|98': {'00': ['10'], '11': ['10']}, '61|73': {'00': ['10'], '11': ['10']}, '62|77': {'00': ['10']}, '63|81': {'00': ['10']}, '64|85': {'00': ['10']}, '65|89': {'00': ['10']}, '66|93': {'00': ['10']}, '67|97': {'00': ['10']}, '61|72': {'00': ['10']}}\n",
    "\n",
    "#33000 steps from 43|37:\n",
    "vdp_visited = {'43|37': {'01': ['00', '11']}, '43|38': {'10': ['00']}, '44|38': {'01': ['00', '10']}, '44|39': {'11': ['11']}, '44|40': {'10': ['00']}, '45|40': {'01': ['00', '10']}, '45|41': {'11': ['00']}, '46|41': {'01': ['10']}, '46|42': {'11': ['00']}, '47|42': {'01': ['10']}, '47|43': {'11': ['00', '10']}, '47|44': {'11': ['00']}, '48|44': {'01': ['10']}, '48|45': {'11': ['00', '10']}, '48|46': {'11': ['00']}, '49|46': {'01': ['10'], '11': ['00', '10']}, '49|47': {'11': ['00', '10']}, '49|48': {'11': ['00']}, '50|48': {'01': ['10'], '11': ['10', '00']}, '50|49': {'11': ['10', '00']}, '50|50': {'11': []}, '50|47': {'01': ['10'], '11': ['00', '10']}, '51|49': {'01': ['10'], '11': ['10', '00']}, '51|50': {'11': ['01']}, '52|50': {'00': ['10'], '11': ['01', '10']}, '52|51': {'11': []}, '49|45': {'01': ['10']}, '51|48': {'01': ['10'], '11': ['10']}, '50|46': {'01': ['10']}, '51|47': {'01': ['10']}, '52|49': {'01': ['10']}, '53|50': {'00': ['10']}, '53|51': {'11': ['01']}, '54|51': {'00': ['10']}, '54|52': {'11': ['01']}, '55|52': {'00': ['10']}, '55|53': {'11': ['01', '10']}, '55|54': {'11': ['01']}, '56|54': {'00': ['10']}, '56|55': {'11': ['01']}, '57|55': {'00': ['10']}, '57|56': {'11': ['10']}, '57|57': {'11': ['01', '10']}, '57|58': {'11': ['01']}, '58|58': {'00': ['10']}, '58|59': {'11': ['10']}, '58|60': {'11': ['01', '10']}, '58|61': {'11': ['01']}, '59|61': {'00': ['10']}, '59|62': {'11': ['10']}, '59|63': {'11': ['01', '10']}, '59|64': {'11': ['01', '10']}, '59|65': {'11': ['01', '10']}, '59|66': {'11': ['01', '10']}, '59|67': {'11': ['01', '10']}, '59|68': {'11': ['01', '10']}, '59|69': {'11': ['01', '10']}, '59|70': {'11': ['01', '10']}, '59|71': {'11': ['01', '10']}, '59|72': {'11': ['01', '10']}, '59|73': {'11': ['01', '10']}, '59|74': {'11': ['01', '10']}, '59|75': {'11': ['01', '10']}, '59|76': {'11': ['01', '10']}, '59|77': {'11': ['01', '10']}, '59|78': {'11': ['01', '10']}, '59|79': {'11': ['01', '10']}, '59|80': {'11': ['01', '10']}, '59|81': {'11': ['01', '10']}, '59|82': {'11': ['01', '10']}, '59|83': {'11': ['01', '10']}, '59|84': {'11': ['01', '10']}, '59|85': {'11': ['01', '10']}, '59|86': {'11': ['01', '10']}, '59|87': {'11': ['01', '10']}, '59|88': {'11': ['01', '10']}, '59|89': {'11': ['01', '10']}, '59|90': {'11': ['01', '10']}, '59|91': {'11': ['01', '10']}, '59|92': {'11': ['01', '10']}, '59|93': {'11': ['01', '10']}, '59|94': {'11': ['01', '10']}, '59|95': {'11': ['01', '10']}, '59|96': {'11': ['01', '10']}, '59|97': {'11': ['01', '10']}, '59|98': {'11': ['01', '10']}, '59|99': {'11': ['01', '10']}, '60|99': {'00': ['10'], '11': ['10', '01']}, '60|98': {'00': ['10'], '11': ['10', '01']}, '60|97': {'00': ['10'], '11': ['10', '01']}, '61|99': {'00': ['10'], '11': ['10']}, '60|96': {'00': ['10'], '11': ['10', '01']}, '61|98': {'00': ['10'], '11': ['10']}, '60|95': {'00': ['10'], '11': ['10', '01']}, '61|97': {'00': ['10'], '11': ['10']}, '60|94': {'00': ['10'], '11': ['10', '01']}, '61|96': {'00': ['10'], '11': ['10']}, '60|93': {'00': ['10'], '11': ['10', '01']}, '61|95': {'00': ['10'], '11': ['10', '01']}, '60|92': {'00': ['10'], '11': ['10', '01']}, '61|94': {'00': ['10'], '11': ['10', '01']}, '60|91': {'00': ['10'], '11': ['10', '01']}, '61|93': {'00': ['10'], '11': ['10', '01']}, '62|95': {'00': ['10'], '11': ['10']}, '62|96': {'11': ['10']}, '62|97': {'11': ['10']}, '62|98': {'11': ['10']}, '62|99': {'11': ['10']}, '60|90': {'00': ['10'], '11': ['10', '01']}, '61|92': {'00': ['10'], '11': ['10', '01']}, '62|94': {'00': ['10'], '11': ['10']}, '60|89': {'00': ['10'], '11': ['10', '01']}, '61|91': {'00': ['10'], '11': ['10', '01']}, '62|93': {'00': ['10'], '11': ['10']}, '60|88': {'00': ['10'], '11': ['10', '01']}, '61|90': {'00': ['10'], '11': ['10', '01']}, '62|92': {'00': ['10'], '11': ['10']}, '60|87': {'00': ['10'], '11': ['10', '01']}, '61|89': {'00': ['10'], '11': ['10', '01']}, '62|91': {'00': ['10'], '11': ['10']}, '60|86': {'00': ['10'], '11': ['10', '01']}, '61|88': {'00': ['10'], '11': ['10', '01']}, '62|90': {'00': ['10'], '11': ['10']}, '60|85': {'00': ['10'], '11': ['10', '01']}, '61|87': {'00': ['10'], '11': ['10', '01']}, '62|89': {'00': ['10'], '11': ['10']}, '60|84': {'00': ['10'], '11': ['10', '01']}, '61|86': {'00': ['10'], '11': ['10', '01']}, '62|88': {'00': ['10'], '11': ['10']}, '60|83': {'00': ['10'], '11': ['10', '01']}, '61|85': {'00': ['10'], '11': ['10', '01']}, '62|87': {'00': ['10'], '11': ['10']}, '60|82': {'00': ['10'], '11': ['10', '01']}, '61|84': {'00': ['10'], '11': ['10', '01']}, '62|86': {'00': ['10'], '11': ['10']}, '60|81': {'00': ['10'], '11': ['10', '01']}, '61|83': {'00': ['10'], '11': ['10', '01']}, '62|85': {'00': ['10'], '11': ['10']}, '60|80': {'00': ['10'], '11': ['10', '01']}, '61|82': {'00': ['10'], '11': ['10', '01']}, '62|84': {'00': ['10'], '11': ['10']}, '60|79': {'00': ['10'], '11': ['10', '01']}, '61|81': {'00': ['10'], '11': ['10', '01']}, '62|83': {'00': ['10'], '11': ['10']}, '60|78': {'00': ['10'], '11': ['10', '01']}, '61|80': {'00': ['10'], '11': ['10', '01']}, '62|82': {'00': ['10'], '11': ['10']}, '60|77': {'00': ['10'], '11': ['10', '01']}, '61|79': {'00': ['10'], '11': ['10', '01']}, '62|81': {'00': ['10'], '11': ['10']}, '60|76': {'00': ['10'], '11': ['10', '01']}, '61|78': {'00': ['10'], '11': ['10', '01']}, '62|80': {'00': ['10'], '11': ['10']}, '60|75': {'00': ['10'], '11': ['10', '01']}, '61|77': {'00': ['10'], '11': ['10', '01']}, '62|79': {'00': ['10'], '11': ['10']}, '60|74': {'00': ['10'], '11': ['10', '01']}, '61|76': {'00': ['10'], '11': ['10', '01']}, '62|78': {'00': ['10'], '11': ['10']}, '60|73': {'00': ['10'], '11': ['10', '01']}, '61|75': {'00': ['10'], '11': ['10', '01']}, '62|77': {'00': ['10'], '11': ['10']}, '60|72': {'00': ['10'], '11': ['10', '01']}, '61|74': {'00': ['10'], '11': ['10', '01']}, '62|76': {'00': ['10'], '11': ['10']}, '60|71': {'00': ['10'], '11': ['10', '01']}, '61|73': {'00': ['10'], '11': ['10', '01']}, '62|75': {'00': ['10'], '11': ['10']}, '60|70': {'00': ['10'], '11': ['10', '01']}, '61|72': {'00': ['10'], '11': ['10']}, '62|74': {'00': ['10'], '11': ['10']}, '60|69': {'00': ['10'], '11': ['10']}, '61|71': {'00': ['10']}, '62|73': {'00': ['10']}, '60|68': {'00': ['10']}}\n",
    "\n",
    "for key in vdp_visited:\n",
    "    r = r_hash( key )\n",
    "    list_r.append( r )\n",
    "    \n",
    "xlist = []\n",
    "ylist = []\n",
    "for r in list_r:\n",
    "    xlist.append( 0.5*( tresholds[0][r[0]] + tresholds[0][r[0]+1]) )\n",
    "    ylist.append( 0.5*( tresholds[1][r[1]] + tresholds[1][r[1]+1]) )\n",
    "\n",
    "ctverecky = pd.DataFrame({\n",
    "    \"x\" : xlist,\n",
    "    \"y\" : ylist\n",
    "})\n",
    "\n",
    "print(ctverecky)"
   ]
  },
  {
   "cell_type": "code",
   "execution_count": 3,
   "metadata": {},
   "outputs": [
    {
     "data": {
      "text/plain": [
       "[(-8.0, 8.0)]"
      ]
     },
     "execution_count": 3,
     "metadata": {},
     "output_type": "execute_result"
    },
    {
     "data": {
      "image/png": "[encoded data removed]",
      "text/plain": [
       "<Figure size 360x360 with 1 Axes>"
      ]
     },
     "metadata": {
      "needs_background": "light"
     },
     "output_type": "display_data"
    }
   ],
   "source": [
    "wid = 5\n",
    "hei = 5\n",
    "fig,ax = plt.subplots(1, 1, figsize=(wid, hei))\n",
    "sns.scatterplot(x=\"x\", y=\"y\", data=ctverecky, markers=\"s\", s=10)\n",
    "ax.set(xlim=(x0min, x0max))\n",
    "ax.set(ylim=(x1min, x1max))\n",
    "\n",
    "#g = sns.FacetGrid(ctverecky)\n",
    "\n",
    "#fg = sns.lmplot('A', 'B', hue=\"group\", data=res_me,fit_reg=False,\n",
    "#              palette=\"Set1\",size=10, aspect=1,\n",
    "#              scatter_kws={\"s\": 100,\"linewidths\":2,\"edgecolor\":\"black\"})\n",
    "\n",
    "#fg.axes[0, 0].add_patch(patches.Rectangle((0.912, 0.72), 1.02, \n",
    "#                        0.802,fill=False,edgecolor='green',lw=3))"
   ]
  },
  {
   "cell_type": "code",
   "execution_count": null,
   "metadata": {},
   "outputs": [],
   "source": []
  }
 ],
 "metadata": {
  "kernelspec": {
   "display_name": "Python 3",
   "language": "python",
   "name": "python3"
  },
  "language_info": {
   "codemirror_mode": {
    "name": "ipython",
    "version": 3
   },
   "file_extension": ".py",
   "mimetype": "text/x-python",
   "name": "python",
   "nbconvert_exporter": "python",
   "pygments_lexer": "ipython3",
   "version": "3.9.5"
  }
 },
 "nbformat": 4,
 "nbformat_minor": 4
}
