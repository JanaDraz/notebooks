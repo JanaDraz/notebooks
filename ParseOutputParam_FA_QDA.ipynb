{
 "cells": [
  {
   "cell_type": "code",
   "execution_count": 1,
   "id": "d3d63555",
   "metadata": {},
   "outputs": [],
   "source": [
    "import numpy as np\n",
    "import seaborn as sns\n",
    "# Matplotlib for additional customization\n",
    "from matplotlib import pyplot as plt\n",
    "import matplotlib\n",
    "%matplotlib inline\n",
    "\n",
    "import pandas as pd\n",
    "from datetime import datetime, timedelta"
   ]
  },
  {
   "cell_type": "code",
   "execution_count": 2,
   "id": "975d2bec",
   "metadata": {},
   "outputs": [],
   "source": [
    "#assume the order of coords \n",
    "#and presume all more than 2d models have homogenous step and bounds\n",
    "def visualize_list_of_rectangles_as_patches( list_r, ident, i, j ):\n",
    "    ctverecky = pd.DataFrame({\n",
    "        \"x\" : [],\n",
    "        \"y\" : []\n",
    "    })\n",
    "    wid = 5\n",
    "    hei = 5\n",
    "    fig,ax = plt.subplots(1, 1, figsize=(wid, hei))\n",
    "    sns.scatterplot(x=\"x\", y=\"y\", data=ctverecky, markers=\"s\", s=10)\n",
    "    \n",
    "    ax.set(xlim=(x0min, x0max))\n",
    "    ax.set(ylim=(x1min, x1max))\n",
    "    for r in list_r:\n",
    "        px = tresholds[i][r[i]]\n",
    "        py = tresholds[j][r[j]]\n",
    "        pw = stepX0\n",
    "        ph = stepX1\n",
    "        ax.add_patch( matplotlib.patches.Rectangle((px, py), pw, ph, alpha=0.5, fill=True, color='green', lw=0) )\n",
    "    plt.savefig('./outParam/img'+str(ident)+'.png', dpi=300)\n",
    "    plt.clf()\n",
    "    plt.close()\n",
    "\n",
    "#expects 2d lists\n",
    "def visualize_lists_of_rectangles_as_colourful_patches( rlists, colorlist, ident, i, j ):\n",
    "    #the phase space whiteboard (scatterplot creates circles for all types of markers, we want rectangles)\n",
    "    ctverecky = pd.DataFrame({\n",
    "        \"x\" : [],\n",
    "        \"y\" : []\n",
    "    })\n",
    "    wid = 5\n",
    "    hei = 5\n",
    "    fig,ax = plt.subplots(1, 1, figsize=(wid, hei))\n",
    "    sns.scatterplot(x=\"x\", y=\"y\", data=ctverecky, markers=\"s\", s=10)\n",
    "    \n",
    "    #the rectangles by matplotlib.patches\n",
    "    alph = 0.1#1.0 / len(colorlist)\n",
    "    ax.set(xlim=(x0min, x0max))\n",
    "    ax.set(ylim=(x1min, x1max))\n",
    "    for k in range( 0, len(colorlist) ):\n",
    "        list_r = rlists[k]\n",
    "        for r in list_r:\n",
    "            px = tresholds[i][r[i]]\n",
    "            py = tresholds[j][r[j]]\n",
    "            pw = stepx0\n",
    "            ph = stepx1\n",
    "            ax.add_patch( matplotlib.patches.Rectangle((px, py), pw, ph, alpha=alph, fill=True, color=colorlist[k], lw=0) )\n",
    "    plt.savefig('./outParam/img'+str(ident)+'.png', dpi=300)\n",
    "    plt.clf()\n",
    "    plt.close()\n",
    "\n",
    "def projection( rlist, varx, vary ):\n",
    "    result = []\n",
    "    for r in rlist :\n",
    "        result += [ [ r[varx], r[vary] ] ]\n",
    "    return result\n",
    "\n",
    "#e.g. {[0.133984375,0.2],[0.21274414062500002,0.30000000000000004],[0.30625,0.5]}\n",
    "def str_to_slodi( strslodi ):\n",
    "    result = []\n",
    "    strslodi1 = strslodi.replace(\"(\",\"[\") #for the simplicity of the vis only\n",
    "    iparts = strslodi1.split(\"[\")\n",
    "    first = True\n",
    "    for ip in iparts:\n",
    "        if not first:\n",
    "            a,b = ip[:-2].split(\",\")\n",
    "            result += [ [ float(a), float(b) ]]\n",
    "        else:\n",
    "            first = False\n",
    "    return result\n",
    "    \n",
    "#print(str(str_to_slodi(\"{[0.133984375,0.2),(0.21274414062500002,0.30000000000000004],[0.30625,0.5]}\")))\n",
    "\n",
    "def strdict_to_slodidict( strdict ):\n",
    "    result = {}\n",
    "    #input dictionary {rhash : [ entryhash+slodihash=\"0 -1: {[1.7,1.8)} ]}\"\n",
    "    for rkey in strdict:\n",
    "        entrylist = strdict[ rkey ]\n",
    "        newdict = {}\n",
    "        for estr in entrylist:\n",
    "            ekey,slodistr = estr.split(\":\")\n",
    "            newdict[ekey] = str_to_slodi( slodistr[1:] )\n",
    "        result[rkey] = newdict\n",
    "    return result\n",
    "\n",
    "def nonempty_intersection(i1,i2):\n",
    "    return (i1[0] <= i2[1]) and (i2[0]<=i1[1])\n",
    "            \n",
    "def interval_intersects_slodi( inter, slodi ):\n",
    "    result = False\n",
    "    for i in slodi:\n",
    "        if nonempty_intersection( i, inter ):\n",
    "            result = True\n",
    "    return result\n",
    "\n",
    "def p_in( p, inter):#for the vis we assume all intervals are closed\n",
    "    return (p >= inter[0]) and (p <= inter[1])\n",
    "\n",
    "def p_in_slodi( p, slodi ):\n",
    "    result = False\n",
    "    for i in slodi:\n",
    "        if p_in( p, i):\n",
    "            result = True\n",
    "    return result\n",
    "\n",
    "def r_from_h(h): #hash = 1,2,3,...\n",
    "    r = []\n",
    "    coordsStrs = h.split(\",\")\n",
    "    for cstr in coordsStrs:\n",
    "        r.append( int(cstr) )\n",
    "    return r"
   ]
  },
  {
   "cell_type": "code",
   "execution_count": 22,
   "id": "20323e39",
   "metadata": {},
   "outputs": [],
   "source": [
    "#assumptions: 1 parameter, running reachability paramFAprototype\n",
    "\n",
    "def print_basic_stats( n, filename, ident, timestr=\"%Hh %Mm %Ss\" ):\n",
    "    i = 0 #line counter\n",
    "    countF = 0\n",
    "    countQ = 0\n",
    "    countA = 0\n",
    "    count_visited_rectangles = 0\n",
    "    queue_items_popped = 0\n",
    "    queue_in_time = []\n",
    "    time_of_comput = \"\"\n",
    "    result_slodi = \"\"\n",
    "    all_rectangles_list = []\n",
    "    rectangles_slodi = {} #from adding ...?string key\n",
    "    rhash = \"\"\n",
    "    rectangles_entry_slodi = {} #from visible states output\n",
    "    admissible_par_valuations = \"\"\n",
    "\n",
    "    filepath = \"./reachabilita-k-parsovani/\" \n",
    "    dost = 0\n",
    "    first_state = True\n",
    "    firstStateStr = \"\"\n",
    "\n",
    "    #read the output file\n",
    "    with open( filepath + filename ) as infile:\n",
    "        for line in infile:\n",
    "            i = i + 1\n",
    "            if( line == \"F\\n\" ):\n",
    "                countF += 1\n",
    "            elif( line == \"Q\\n\" ):\n",
    "                countQ += 1\n",
    "            elif( line[:12] == \"Adding state\"):\n",
    "                if first_state:\n",
    "                    i1 = line.find('[')\n",
    "                    i2 = line.find(']')\n",
    "                    firstStateStr = line[ i1 : (i2+1) ]\n",
    "                    i1 = line.find('{')\n",
    "                    i2 = line.find('}')\n",
    "                    admissible_par_valuations = line[ i1 : (i2+1) ]\n",
    "                    first_state = False\n",
    "                countA += 1\n",
    "            elif( line[:14] == \"   Queue size \"):\n",
    "                queue_in_time.append( int( line[14:-1] ) )\n",
    "            elif( line[:32] == \"Visited states data: checkpoint=\"):#35334:\")\n",
    "                queue_items_popped = int( line[32:-2] )\n",
    "            elif( line[:11] == \"Rectangle: \"): #[64,96], Data: \"):\n",
    "                count_visited_rectangles += 1\n",
    "                rhash = line[12:-10]\n",
    "                r = []\n",
    "                rectangles_entry_slodi[rhash] = []\n",
    "                coordsStrs = rhash.split(\",\")\n",
    "                for cstr in coordsStrs:\n",
    "                    r.append( int(cstr) )\n",
    "                all_rectangles_list.append( r )\n",
    "                #if(dost < 10):\n",
    "                #    print( str(r) )\n",
    "                #    dost += 1\n",
    "            elif( line[:8] == \"\tdir,or=\" ): #0 -1: \" #{[1.7,1.8)},\"\n",
    "                entry_elem = line[8:-2]\n",
    "                rectangles_entry_slodi[ rhash ].append( entry_elem )\n",
    "            elif( line[:21] == \"Result of reach A,B: \"):\n",
    "                result_slodi = line[21:-1]\n",
    "            elif( line[:20] == \"BUILD SUCCESSFUL in \"):\n",
    "                time_of_comput = line[20:-1]\n",
    "\n",
    "    print(\"Read \" + str(i) + \" lines from output file: \\n\" + filename + \"\\n\" )\n",
    "    print(\"Task was reachability from \"+firstStateStr+\" with parameters in \"+admissible_par_valuations)\n",
    "\n",
    "    #result of reachability task? output interval of valid pars (vis states visited\n",
    "    #with valid pars)\n",
    "    #TODO? ze zadanych delt se daji kdyztak pospojovat nazelene intervaly, \n",
    "    #kdyz se lisi o mene nez velka delta\n",
    "    print(\"Result: B is reachable from A if p is in: \\nSLODI \" + result_slodi + \"\\n\")\n",
    "    print(\"Computation time was \"+time_of_comput+\".\" )\n",
    "\n",
    "\n",
    "    #count number of visited states and rectangles\n",
    "    #statistics of states per rectangle (barplot), export graph\n",
    "    #vis can be lists of rectangles (duplicate by entry), vis with aplha=0.25 \n",
    "    #and see darker and lighter rectangles\n",
    "    print(\"Rectangles visited \"+str(count_visited_rectangles)+\".\")\n",
    "    count_visited_states = 0\n",
    "    entrylist_lengths = []\n",
    "    for rhash in rectangles_entry_slodi:\n",
    "        entrylist_lengths.append( len( rectangles_entry_slodi[rhash] ) )\n",
    "        count_visited_states += len( rectangles_entry_slodi[ rhash ] )\n",
    "    print(\"States visited \"+str(count_visited_states)+\".\")\n",
    "    print(\"Average states per rectangle \"+\"{:2.1f}\".format(count_visited_states/count_visited_rectangles) +\".\")\n",
    "    entrylist_sizes = pd.DataFrame({\n",
    "            \"id\" : range(0,len(entrylist_lengths)),\n",
    "            \"states per rectangle\" : entrylist_lengths\n",
    "        })\n",
    "    wid = 5\n",
    "    hei = 5\n",
    "    velpis = 15\n",
    "    fig,ax = plt.subplots(1, 1, figsize=(wid, hei))\n",
    "    countplot = sns.countplot(x=\"states per rectangle\", data=entrylist_sizes, color=\"c\")\n",
    "    countplot.tick_params(labelsize=velpis)\n",
    "    plt.yticks(fontsize=velpis)\n",
    "    countplot.set_xlabel(\"states per rectangle\", fontsize=velpis)\n",
    "    countplot.set_ylabel(\"count\",fontsize=velpis)\n",
    "    plt.tight_layout()\n",
    "    plt.show()\n",
    "    #myfig = countplot.get_figure()\n",
    "    #myfig.savefig(\"./outParam/out.png\",dpi=300) \n",
    "    fig.savefig('./outParam/img_STATES_PER_RECTANGLE_'+filename+'.png', dpi=300)\n",
    "    plt.clf()\n",
    "    plt.close()\n",
    "\n",
    "    #compute the dictionary rectangle : parsets slodis under which reached\n",
    "    #compute the dictionary rectangle: entry: parsets slodis\n",
    "    #store the dictionary in file\n",
    "    rh_eh_slodi = strdict_to_slodidict( rectangles_entry_slodi ) #rectangle str entry str parset slodi\n",
    "    dictfile = './outParam/RECTANGLES_DATA_'+filename\n",
    "    fo = open( dictfile, \"w\")\n",
    "    fo.write( str(rh_eh_slodi) )\n",
    "    fo.close()\n",
    "\n",
    "    #process of computation - queue size in time (as in steps) \n",
    "    #TODO? (can be also seen when (in terms of steps) a rectangle was added to queue,\n",
    "    #i.e. reached and not yet explored with given parset, z toho se da visualizovat\n",
    "    #time posloupnost kudy to slo, tmavnouci nebo svetlajici nebo barvu menici trajectory)\n",
    "    queue_sizes = pd.DataFrame({\n",
    "            \"states analyzed\" : range(0,len(queue_in_time)),\n",
    "            \"states in queue\" : queue_in_time\n",
    "        })\n",
    "    wid = 5\n",
    "    hei = 5\n",
    "    fig,ax = plt.subplots(1, 1, figsize=(wid, hei))\n",
    "    sns.lineplot(x=\"states analyzed\", y=\"states in queue\", data=queue_sizes )\n",
    "    plt.savefig('./outParam/img_QUEUE_SIZE_IN_STEPS_'+filename+'.png', dpi=300)\n",
    "    plt.clf()\n",
    "    plt.close()\n",
    "\n",
    "    #known time of computation, num of states analyzed (=checkpoint=num added states)\n",
    "    #average time per state (rectangle) analysis,\n",
    "    #the above in relation to QDA FA portions (and globally in relation to all models dim and tres and type of system)\n",
    "    t = datetime.strptime( time_of_comput, timestr )\n",
    "    delta = timedelta( hours=t.hour, minutes=t.minute, seconds=t.second)\n",
    "    print(\"Computation time \" + str(delta.total_seconds()) + \" seconds.\")\n",
    "\n",
    "    print(\"Number of states added to queue (found for first time with given parset) \" + str(countA)+\".\")\n",
    "    print(\"Number of states popped from queue \" + str(queue_items_popped)+\".\\n\" )\n",
    "\n",
    "    #compute number of F vs Q computations\n",
    "    print(\"FA completed before 1 minute timeout \" + str(countF) + \" times.\")\n",
    "    print(\"QDA called after 1 minute timeout \" + str(countQ) + \" times.\\n\")\n",
    "\n",
    "    print(\"Average time per state analysis \" + \"{:2.2f}\".format( (delta.total_seconds() * 1.0) / queue_items_popped ) + \" seconds.\\n\" )\n",
    "    #print(\"Average time per rectangle was ??\")\n",
    "    \n",
    "    print(ident+\"\\n\\n\")\n",
    "    \n",
    "    #projection of pairs of vars, vis output export\n",
    "    for i in range(0,n):\n",
    "        for j in range(i+1,n):\n",
    "            visualize_list_of_rectangles_as_patches( all_rectangles_list, filename+\"_VARS_\"+str(i)+str(j), i, j )\n",
    "\n",
    "    return [ all_rectangles_list, rh_eh_slodi ]\n",
    "\n",
    "def visualize_par_intervals( rh_eh_slodi, intervals, colorlist, ident):\n",
    "    #print(projection(all_rectangles_list, 0, 2))\n",
    "    #interesting parsets subsets filter state space and visualize\n",
    "    \n",
    "    rlists = [ [] ] * len(intervals)\n",
    "    for rkey in rh_eh_slodi:\n",
    "        #print(rkey)\n",
    "        for k in range( 0, len( intervals ) ):\n",
    "            for ekey in rh_eh_slodi[ rkey ]:\n",
    "                if interval_intersects_slodi( intervals[k], rh_eh_slodi[rkey][ekey] ):\n",
    "                    rlists[k] += [ r_from_h(rkey) ]\n",
    "                    #print(\"i=\"+str(i)+\" r\"+str(r_from_h(rkey)))\n",
    "    for i in range(0,n):\n",
    "        for j in range(i+1,n):\n",
    "            visualize_lists_of_rectangles_as_colourful_patches( rlists, colorlist, ident, i, j )"
   ]
  },
  {
   "cell_type": "code",
   "execution_count": null,
   "id": "4ad994b5",
   "metadata": {},
   "outputs": [],
   "source": [
    "#LOTKA VOLTERRA SMALL\n",
    "n=2\n",
    "x0min = 0.1\n",
    "x0max = 0.6\n",
    "x1min = 0\n",
    "x1max = 1\n",
    "pieces_count = 3\n",
    "stepx0 = ( x0max - x0min ) / pieces_count\n",
    "stepx1 = ( x1max - x1min ) / pieces_count\n",
    "tresholdsX0 = [0.1,0.2,0.4,0.6]\n",
    "tresholdsX1 = [0.0,0.5,0.8,1.0]\n",
    "tresholds = [ tresholdsX0, tresholdsX1 ]\n",
    "\n",
    "print_basic_stats( n, filename, ident )"
   ]
  },
  {
   "cell_type": "code",
   "execution_count": 18,
   "id": "b2e1ecd4",
   "metadata": {},
   "outputs": [
    {
     "name": "stdout",
     "output_type": "stream",
     "text": [
      "Read 112467 lines from output file: \n",
      "2022-03-30-OUTPUT-LV-ReachabilityCaseStudy-50tres-using-fa-timeout-to-qda.txt\n",
      "\n",
      "Task was reachability from [40,10] with parameters in {[0.1,0.5]}\n",
      "Result: B is reachable from A if p is in: \n",
      "SLODI {[0.133984375,0.2],[0.21274414062500002,0.30000000000000004],[0.30625,0.5]}\n",
      "\n",
      "Computation time was 3h 49m 44s.\n",
      "Rectangles visited 1586.\n",
      "States visited 4139.\n",
      "Average states per rectangle 2.6.\n"
     ]
    },
    {
     "data": {
      "image/png": "[encoded data removed]",
      "text/plain": [
       "<Figure size 360x360 with 1 Axes>"
      ]
     },
     "metadata": {
      "needs_background": "light"
     },
     "output_type": "display_data"
    },
    {
     "name": "stdout",
     "output_type": "stream",
     "text": [
      "Computation time 13784.0 seconds.\n",
      "Number of states added to queue (found for first time with given parset) 35334.\n",
      "Number of states popped from queue 35334.\n",
      "\n",
      "FA completed before 1 minute timeout 35454 times.\n",
      "QDA called after 1 minute timeout 0 times.\n",
      "\n",
      "Average time per state analysis 0.39 seconds.\n",
      "\n",
      "LV50x50\n"
     ]
    }
   ],
   "source": [
    "#LOTKA VOLTERRA 50x50\n",
    "filename = \"2022-03-30-OUTPUT-LV-ReachabilityCaseStudy-50tres-using-fa-timeout-to-qda.txt\"\n",
    "ident = \"LV50x50\"\n",
    "\n",
    "n=2\n",
    "x0min = 0\n",
    "x0max = 0.6\n",
    "x1min = 0\n",
    "x1max = 1\n",
    "pieces_count = 50\n",
    "stepX0 = ( x0max - x0min ) / pieces_count\n",
    "stepX1 = ( x1max - x1min ) / pieces_count\n",
    "tresholdsX0 = np.arange ( x0min, x0max+(0.3*stepx0), stepx0 )\n",
    "tresholdsX1 = np.arange ( x1min, x1max+(0.3*stepx1), stepx1 )\n",
    "tresholds = [ tresholdsX0, tresholdsX1 ]\n",
    "\n",
    "#processing:\n",
    "all_rectangles_list,rh_eh_slodi = print_basic_stats( n, filename, ident )\n",
    "\n",
    "#intervals = [ [0,0.09] ]\n",
    "intervals = [[0.4,0.5],[0.1,0.19],[0.2,0.29],[0.3,0.39]]\n",
    "ident = \"LV50x50-5-parsets\"\n",
    "colorlist = ['blue','yellow','yellow','blue']\n",
    "#colorlist = ['yellow']#,'yellow','yellow']\n",
    "visualize_par_intervals( rh_eh_slodi, intervals, colorlist, ident )"
   ]
  },
  {
   "cell_type": "code",
   "execution_count": 23,
   "id": "ede73a79",
   "metadata": {},
   "outputs": [
    {
     "name": "stdout",
     "output_type": "stream",
     "text": [
      "Read 22994 lines from output file: \n",
      "2022-03-31-OUTPUT-BRU-ReachabilityCaseStudy-100tres-using-fa-AB.txt\n",
      "\n",
      "Task was reachability from [10,43] with parameters in {[1.7,3.0]}\n",
      "Result: B is reachable from A if p is in: \n",
      "SLODI {}\n",
      "\n",
      "Computation time was 2h 24m 44s.\n",
      "Rectangles visited 3159.\n",
      "States visited 6173.\n",
      "Average states per rectangle 2.0.\n"
     ]
    },
    {
     "data": {
      "image/png": "[encoded data removed]",
      "text/plain": [
       "<Figure size 360x360 with 1 Axes>"
      ]
     },
     "metadata": {
      "needs_background": "light"
     },
     "output_type": "display_data"
    },
    {
     "name": "stdout",
     "output_type": "stream",
     "text": [
      "Computation time 8684.0 seconds.\n",
      "Number of states added to queue (found for first time with given parset) 6825.\n",
      "Number of states popped from queue 6825.\n",
      "\n",
      "FA completed before 1 minute timeout 0 times.\n",
      "QDA called after 1 minute timeout 0 times.\n",
      "\n",
      "Average time per state analysis 1.27 seconds.\n",
      "\n",
      "BRU_AB\n",
      "\n",
      "\n",
      "Read 22990 lines from output file: \n",
      "2022-03-31-OUTPUT-BRU-ReachabilityCaseStudy-100tres-using-fa-AC.txt\n",
      "\n",
      "Task was reachability from [10,43] with parameters in {[1.7,3.0]}\n",
      "Result: B is reachable from A if p is in: \n",
      "SLODI {}\n",
      "\n",
      "Computation time was 2h 24m 43s.\n",
      "Rectangles visited 3159.\n",
      "States visited 6173.\n",
      "Average states per rectangle 2.0.\n"
     ]
    },
    {
     "data": {
      "image/png": "[encoded data removed]",
      "text/plain": [
       "<Figure size 360x360 with 1 Axes>"
      ]
     },
     "metadata": {
      "needs_background": "light"
     },
     "output_type": "display_data"
    },
    {
     "name": "stdout",
     "output_type": "stream",
     "text": [
      "Computation time 8683.0 seconds.\n",
      "Number of states added to queue (found for first time with given parset) 6825.\n",
      "Number of states popped from queue 6825.\n",
      "\n",
      "FA completed before 1 minute timeout 0 times.\n",
      "QDA called after 1 minute timeout 0 times.\n",
      "\n",
      "Average time per state analysis 1.27 seconds.\n",
      "\n",
      "BRU_AC\n",
      "\n",
      "\n"
     ]
    }
   ],
   "source": [
    "#BRUSSELATOR 100x100\n",
    "filename1 = \"2022-03-31-OUTPUT-BRU-ReachabilityCaseStudy-100tres-using-fa-AB.txt\"\n",
    "filename2 = \"2022-03-31-OUTPUT-BRU-ReachabilityCaseStudy-100tres-using-fa-AC.txt\"\n",
    "\n",
    "n=2\n",
    "x0min = 0\n",
    "x0max = 0.6\n",
    "x1min = 0\n",
    "x1max = 0.6\n",
    "pieces_count = 100\n",
    "stepx0 = ( x0max - x0min ) / pieces_count\n",
    "stepx1 = ( x1max - x1min ) / pieces_count\n",
    "tresholdsX0 = np.arange ( x0min, x0max+(0.3*stepx0), stepx0 )\n",
    "tresholdsX1 = np.arange ( x1min, x1max+(0.3*stepx1), stepx1 )\n",
    "tresholds = [ tresholdsX0, tresholdsX1 ]\n",
    "\n",
    "all_rectangles_list,rh_eh_slodi = print_basic_stats( n, filename1, \"BRU_AB\" )\n",
    "all_rectangles_list,rh_eh_slodi = print_basic_stats( n, filename2, \"BRU_AC\" )"
   ]
  },
  {
   "cell_type": "code",
   "execution_count": 24,
   "id": "4cf66c64",
   "metadata": {},
   "outputs": [
    {
     "name": "stdout",
     "output_type": "stream",
     "text": [
      "Read 808 lines from output file: \n",
      "2022-03-30-OUTPUT-REPRESSILATOR-3D-PWMA-INPUT03-reachAB.txt\n",
      "\n",
      "Task was reachability from [2,1,1] with parameters in {[0.0,3.0]}\n",
      "Result: B is reachable from A if p is in: \n",
      "SLODI {[0.0,0.1]}\n",
      "\n",
      "Computation time was 1m 25s.\n",
      "Rectangles visited 94.\n",
      "States visited 206.\n",
      "Average states per rectangle 2.2.\n"
     ]
    },
    {
     "data": {
      "image/png": "[encoded data removed]",
      "text/plain": [
       "<Figure size 360x360 with 1 Axes>"
      ]
     },
     "metadata": {
      "needs_background": "light"
     },
     "output_type": "display_data"
    },
    {
     "name": "stdout",
     "output_type": "stream",
     "text": [
      "Computation time 85.0 seconds.\n",
      "Number of states added to queue (found for first time with given parset) 240.\n",
      "Number of states popped from queue 240.\n",
      "\n",
      "FA completed before 1 minute timeout 0 times.\n",
      "QDA called after 1 minute timeout 0 times.\n",
      "\n",
      "Average time per state analysis 0.35 seconds.\n",
      "\n",
      "REP3D_parset0_3\n",
      "\n",
      "\n",
      "Read 6920 lines from output file: \n",
      "2022-03-30-OUTPUT-REPRESSILATOR-3D-PWMA-reachAB.txt\n",
      "\n",
      "Task was reachability from [2,1,1] with parameters in {[-1.0,3.0]}\n",
      "Result: B is reachable from A if p is in: \n",
      "SLODI {[-1.0,0.14999999999999988]}\n",
      "\n",
      "Computation time was 31m 40s.\n",
      "Rectangles visited 419.\n",
      "States visited 1358.\n",
      "Average states per rectangle 3.2.\n"
     ]
    },
    {
     "data": {
      "image/png": "[encoded data removed]",
      "text/plain": [
       "<Figure size 360x360 with 1 Axes>"
      ]
     },
     "metadata": {
      "needs_background": "light"
     },
     "output_type": "display_data"
    },
    {
     "name": "stdout",
     "output_type": "stream",
     "text": [
      "Computation time 1900.0 seconds.\n",
      "Number of states added to queue (found for first time with given parset) 2413.\n",
      "Number of states popped from queue 2413.\n",
      "\n",
      "FA completed before 1 minute timeout 0 times.\n",
      "QDA called after 1 minute timeout 0 times.\n",
      "\n",
      "Average time per state analysis 0.79 seconds.\n",
      "\n",
      "REP3D_parset-1_3\n",
      "\n",
      "\n"
     ]
    }
   ],
   "source": [
    "#REPRESSILATOR 3D\n",
    "filename1 = \"2022-03-30-OUTPUT-REPRESSILATOR-3D-PWMA-INPUT03-reachAB.txt\"\n",
    "filename2 = \"2022-03-30-OUTPUT-REPRESSILATOR-3D-PWMA-reachAB.txt\"\n",
    "\n",
    "n = 3\n",
    "pieces_count = 9\n",
    "stepX0 = 2.011341\n",
    "stepX1 = 2.011341\n",
    "stepX2 = 2.011341\n",
    "tresholdsX0 = [0.000000, 2.011341, 2.921948, 3.692462, 5.563709, 6.284189, 7.074716, 8.035357, 9.336224, 10.000000 ]\n",
    "tresholdsX1 = [0.000000, 2.011341, 2.921948, 3.692462, 5.563709, 6.284189, 7.074716, 8.035357, 9.336224, 10.000000 ]\n",
    "tresholdsX2 = [0.000000, 2.011341, 2.921948, 3.692462, 5.563709, 6.284189, 7.074716, 8.035357, 9.336224, 10.000000 ]\n",
    "tresholds = [ tresholdsX0, tresholdsX1, tresholdsX2 ]\n",
    "\n",
    "\n",
    "all_rectangles_list,rh_eh_slodi = print_basic_stats( n, filename1, \"REP3D_parset0_3\", timestr=\"%Mm %Ss\" )\n",
    "all_rectangles_list,rh_eh_slodi = print_basic_stats( n, filename2, \"REP3D_parset-1_3\", timestr=\"%Mm %Ss\" )"
   ]
  },
  {
   "cell_type": "code",
   "execution_count": 26,
   "id": "2acc9dff",
   "metadata": {},
   "outputs": [
    {
     "name": "stdout",
     "output_type": "stream",
     "text": [
      "Read 14357 lines from output file: \n",
      "2022-03-29-OUTPUT-SEIRnorm10-combined-timeout1min-reachAB.txt\n",
      "\n",
      "Task was reachability from [9,0,0,0] with parameters in {[0.1,1.0]}\n",
      "Result: B is reachable from A if p is in: \n",
      "SLODI {[0.7000000000000001,1.0]}\n",
      "\n",
      "Computation time was 5h 42m 32s.\n",
      "Rectangles visited 1154.\n",
      "States visited 2965.\n",
      "Average states per rectangle 2.6.\n"
     ]
    },
    {
     "data": {
      "image/png": "[encoded data removed]",
      "text/plain": [
       "<Figure size 360x360 with 1 Axes>"
      ]
     },
     "metadata": {
      "needs_background": "light"
     },
     "output_type": "display_data"
    },
    {
     "name": "stdout",
     "output_type": "stream",
     "text": [
      "Computation time 20552.0 seconds.\n",
      "Number of states added to queue (found for first time with given parset) 3360.\n",
      "Number of states popped from queue 3360.\n",
      "\n",
      "FA completed before 1 minute timeout 1401 times.\n",
      "QDA called after 1 minute timeout 2053 times.\n",
      "\n",
      "Average time per state analysis 6.12 seconds.\n",
      "\n",
      "SEIR_init9000\n",
      "\n",
      "\n"
     ]
    }
   ],
   "source": [
    "#SEIR 4D\n",
    "filename = \"2022-03-29-OUTPUT-SEIRnorm10-combined-timeout1min-reachAB.txt\"\n",
    "\n",
    "n = 4\n",
    "pieces_count = 10\n",
    "stepX0 = 0.1\n",
    "stepX1 = 0.1\n",
    "tresholdsX0 = [0.0, 0.1, 0.2, 0.30000000000000004, 0.4, 0.5, 0.6000000000000001, 0.7000000000000001, 0.8, 0.9, 1.0]\n",
    "tresholdsX1 = [0.0, 0.1, 0.2, 0.30000000000000004, 0.4, 0.5, 0.6000000000000001, 0.7000000000000001, 0.8, 0.9, 1.0]\n",
    "tresholdsX2 = [0.0, 0.1, 0.2, 0.30000000000000004, 0.4, 0.5, 0.6000000000000001, 0.7000000000000001, 0.8, 0.9, 1.0]\n",
    "tresholdsX3 = [0.0, 0.1, 0.2, 0.30000000000000004, 0.4, 0.5, 0.6000000000000001, 0.7000000000000001, 0.8, 0.9, 1.0]\n",
    "tresholds = [ tresholdsX0, tresholdsX1, tresholdsX2, tresholdsX3 ]\n",
    "\n",
    "all_rectangles_list,rh_eh_slodi = print_basic_stats( n, filename, \"SEIR_init9000\") #, timestr=\"%Mm %Ss\" )\n"
   ]
  },
  {
   "cell_type": "code",
   "execution_count": 29,
   "id": "02c1e806",
   "metadata": {},
   "outputs": [
    {
     "name": "stdout",
     "output_type": "stream",
     "text": [
      "Read 5844 lines from output file: \n",
      "2022-03-30-OUTPUT-Repressilator5DVerySimple-4tres-PWMA-00000.txt\n",
      "\n",
      "Task was reachability from [0,0,0,0,0] with parameters in {[0.0,3.0]}\n",
      "Result: B is reachable from A if p is in: \n",
      "SLODI {[0.0,3.0]}\n",
      "\n",
      "Computation time was 3h 51m 40s.\n",
      "Rectangles visited 243.\n",
      "States visited 1034.\n",
      "Average states per rectangle 4.3.\n"
     ]
    },
    {
     "data": {
      "image/png": "[encoded data removed]",
      "text/plain": [
       "<Figure size 360x360 with 1 Axes>"
      ]
     },
     "metadata": {
      "needs_background": "light"
     },
     "output_type": "display_data"
    },
    {
     "name": "stdout",
     "output_type": "stream",
     "text": [
      "Computation time 13900.0 seconds.\n",
      "Number of states added to queue (found for first time with given parset) 2052.\n",
      "Number of states popped from queue 2052.\n",
      "\n",
      "FA completed before 1 minute timeout 0 times.\n",
      "QDA called after 1 minute timeout 0 times.\n",
      "\n",
      "Average time per state analysis 6.77 seconds.\n",
      "\n",
      "REP5D_init00000\n",
      "\n",
      "\n",
      "Read 2348 lines from output file: \n",
      "2022-03-31-OUTPUT-Repressilator5D-VerySimple-reach2xxxx-init00000-param-50.txt\n",
      "\n",
      "Task was reachability from [0,0,0,0,0] with parameters in {[-5.0,0.0]}\n",
      "Result: B is reachable from A if p is in: \n",
      "SLODI {[-5.0,0.0]}\n",
      "\n",
      "Computation time was 7h 16m 4s.\n",
      "Rectangles visited 243.\n",
      "States visited 595.\n",
      "Average states per rectangle 2.4.\n"
     ]
    },
    {
     "data": {
      "image/png": "[encoded data removed]",
      "text/plain": [
       "<Figure size 360x360 with 1 Axes>"
      ]
     },
     "metadata": {
      "needs_background": "light"
     },
     "output_type": "display_data"
    },
    {
     "name": "stdout",
     "output_type": "stream",
     "text": [
      "Computation time 26164.0 seconds.\n",
      "Number of states added to queue (found for first time with given parset) 592.\n",
      "Number of states popped from queue 592.\n",
      "\n",
      "FA completed before 1 minute timeout 0 times.\n",
      "QDA called after 1 minute timeout 0 times.\n",
      "\n",
      "Average time per state analysis 44.20 seconds.\n",
      "\n",
      "REP5D_init00000_B2xxxx\n",
      "\n",
      "\n"
     ]
    }
   ],
   "source": [
    "#REPRESSILATOR 5D\n",
    "filename1 = \"2022-03-30-OUTPUT-Repressilator5DVerySimple-4tres-PWMA-00000.txt\"\n",
    "#filename = \"2022-03-30-OUTPUT-REPRESSILATOR-5D-PWMA-reachAB-NEKOMPLETNI.txt\"\n",
    "filename2 = \"2022-03-31-OUTPUT-Repressilator5D-VerySimple-reach2xxxx-init00000-param-50.txt\"\n",
    "\n",
    "n = 5\n",
    "pieces_count = 3\n",
    "stepX0 = 3.692462\n",
    "stepX1 = 3.692462\n",
    "tresholdsX0 = [0.000000, 3.692462, 7.074716, 10.000000]\n",
    "tresholdsX1 = [0.000000, 3.692462, 7.074716, 10.000000]\n",
    "tresholdsX2 = [0.000000, 3.692462, 7.074716, 10.000000]\n",
    "tresholdsX3 = [0.000000, 3.692462, 7.074716, 10.000000]\n",
    "tresholdsX4 = [0.000000, 3.692462, 7.074716, 10.000000]\n",
    "tresholds = [ tresholdsX0, tresholdsX1, tresholdsX2, tresholdsX3, tresholdsX4 ]\n",
    "\n",
    "all_rectangles_list,rh_eh_slodi = print_basic_stats( n, filename1, \"REP5D_init00000\") #, timestr=\"%Mm %Ss\" )\n",
    "all_rectangles_list,rh_eh_slodi = print_basic_stats( n, filename2, \"REP5D_init00000_B2xxxx\") #, timestr=\"%Mm %Ss\" )\n"
   ]
  },
  {
   "cell_type": "code",
   "execution_count": null,
   "id": "0c717645",
   "metadata": {},
   "outputs": [],
   "source": []
  }
 ],
 "metadata": {
  "kernelspec": {
   "display_name": "Python 3 (ipykernel)",
   "language": "python",
   "name": "python3"
  },
  "language_info": {
   "codemirror_mode": {
    "name": "ipython",
    "version": 3
   },
   "file_extension": ".py",
   "mimetype": "text/x-python",
   "name": "python",
   "nbconvert_exporter": "python",
   "pygments_lexer": "ipython3",
   "version": "3.10.3"
  }
 },
 "nbformat": 4,
 "nbformat_minor": 5
}
